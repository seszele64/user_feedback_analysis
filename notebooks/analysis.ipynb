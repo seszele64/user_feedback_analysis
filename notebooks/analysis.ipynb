{
 "cells": [
  {
   "cell_type": "code",
   "execution_count": 39,
   "metadata": {},
   "outputs": [],
   "source": [
    "import os\n",
    "from google.cloud import bigquery\n",
    "from dotenv import load_dotenv\n",
    "import plotly.graph_objects as go"
   ]
  },
  {
   "cell_type": "code",
   "execution_count": 40,
   "metadata": {},
   "outputs": [],
   "source": [
    "\n",
    "# Load environment variables\n",
    "load_dotenv()\n",
    "\n",
    "# Set up credentials\n",
    "os.environ['GOOGLE_APPLICATION_CREDENTIALS'] = os.getenv('SERVICE_ACCOUNT_FILE')\n",
    "\n",
    "# Create a client\n",
    "client = bigquery.Client()"
   ]
  },
  {
   "cell_type": "code",
   "execution_count": 41,
   "metadata": {},
   "outputs": [],
   "source": [
    "import os\n",
    "from google.cloud import bigquery\n",
    "import plotly.graph_objects as go\n",
    "\n",
    "# Get table details from environment variables\n",
    "project_id = os.getenv('PROJECT_ID')\n",
    "dataset_id = os.getenv('DATASET_NAME')\n",
    "table_id = os.getenv('FEEDBACK_TABLE_NAME')\n",
    "\n",
    "# Construct the query based on the actual schema\n",
    "query = f\"\"\"\n",
    "SELECT Label, COUNT(*) as count\n",
    "FROM `{project_id}.{dataset_id}.{table_id}`\n",
    "GROUP BY Label\n",
    "ORDER BY Label\n",
    "\"\"\""
   ]
  },
  {
   "cell_type": "code",
   "execution_count": 42,
   "metadata": {},
   "outputs": [
    {
     "name": "stdout",
     "output_type": "stream",
     "text": [
      "1: 2469\n",
      "2: 2251\n",
      "3: 5071\n",
      "4: 18054\n",
      "5: 79173\n"
     ]
    }
   ],
   "source": [
    "\n",
    "# Create a BigQuery client\n",
    "client = bigquery.Client()\n",
    "\n",
    "# Run the query\n",
    "query_job = client.query(query)  # Execute the query\n",
    "\n",
    "# Fetch the results\n",
    "results = query_job.result()  # Wait for the query to finish\n",
    "\n",
    "# Prepare data for plotting\n",
    "labels = []\n",
    "values = []\n",
    "\n",
    "# Process the results\n",
    "for row in results:\n",
    "    labels.append(row.Label)\n",
    "    values.append(row.count)\n",
    "    print(f\"{row.Label}: {row.count}\")\n",
    "\n",
    "# create df from results\n",
    "import pandas as pd\n",
    "df = pd.DataFrame({'Label': labels, 'Count': values})"
   ]
  },
  {
   "cell_type": "code",
   "execution_count": 38,
   "metadata": {},
   "outputs": [
    {
     "data": {
      "application/vnd.plotly.v1+json": {
       "config": {
        "plotlyServerURL": "https://plot.ly"
       },
       "data": [
        {
         "marker": {
          "color": [
           2469,
           2251,
           5071,
           18054,
           79173
          ],
          "colorbar": {
           "title": {
            "text": "Count"
           }
          },
          "colorscale": [
           [
            0,
            "#440154"
           ],
           [
            0.1111111111111111,
            "#482878"
           ],
           [
            0.2222222222222222,
            "#3e4989"
           ],
           [
            0.3333333333333333,
            "#31688e"
           ],
           [
            0.4444444444444444,
            "#26828e"
           ],
           [
            0.5555555555555556,
            "#1f9e89"
           ],
           [
            0.6666666666666666,
            "#35b779"
           ],
           [
            0.7777777777777778,
            "#6ece58"
           ],
           [
            0.8888888888888888,
            "#b5de2b"
           ],
           [
            1,
            "#fde725"
           ]
          ]
         },
         "type": "bar",
         "x": [
          1,
          2,
          3,
          4,
          5
         ],
         "y": [
          2469,
          2251,
          5071,
          18054,
          79173
         ]
        }
       ],
       "layout": {
        "annotations": [
         {
          "bgcolor": "rgba(0,0,0,0.5)",
          "bordercolor": "#ffffff",
          "borderpad": 4,
          "borderwidth": 1,
          "clicktoshow": "onoff",
          "font": {
           "color": "#ffffff",
           "family": "monospace",
           "size": 14
          },
          "name": "seszele_annotation",
          "opacity": 0.8,
          "showarrow": false,
          "text": "@seszele",
          "x": 1.1,
          "xanchor": "right",
          "xref": "paper",
          "y": 1.1,
          "yanchor": "top",
          "yref": "paper"
         },
         {
          "bgcolor": "rgba(0,0,0,0.5)",
          "bordercolor": "#ffffff",
          "borderpad": 4,
          "borderwidth": 1,
          "font": {
           "color": "#ffffff",
           "family": "monospace",
           "size": 14
          },
          "name": "github_link",
          "opacity": 0.8,
          "showarrow": false,
          "text": "<a href=\"https://github.com/seszele\">Visit @seszele on GitHub</a>",
          "visible": false,
          "x": 1.1,
          "xanchor": "right",
          "xref": "paper",
          "y": 1.05,
          "yanchor": "top",
          "yref": "paper"
         }
        ],
        "bargap": 0.2,
        "legend": {
         "title": {
          "font": {
           "size": 16
          }
         }
        },
        "margin": {
         "r": 100,
         "t": 100
        },
        "template": {
         "layout": {
          "colorway": [
           "#440154",
           "#482878",
           "#3e4989",
           "#31688e",
           "#26828e",
           "#1f9e89",
           "#35b779",
           "#6ece58",
           "#b5de2b",
           "#fde725"
          ],
          "font": {
           "color": "#ffffff",
           "family": "monospace",
           "size": 14
          },
          "paper_bgcolor": "#1e1e1e",
          "plot_bgcolor": "#1e1e1e",
          "title": {
           "font": {
            "color": "#ffffff"
           }
          },
          "xaxis": {
           "color": "#ffffff",
           "gridcolor": "#333333"
          },
          "yaxis": {
           "color": "#ffffff",
           "gridcolor": "#333333"
          }
         }
        },
        "title": {
         "font": {
          "size": 20
         },
         "text": "Sentiment Analysis Results"
        },
        "updatemenus": [
         {
          "buttons": [
           {
            "args": [
             {
              "annotations[1].visible": true
             }
            ],
            "args2": [
             {
              "annotations[1].visible": false
             }
            ],
            "label": "@seszele",
            "method": "update"
           }
          ],
          "showactive": false,
          "type": "buttons",
          "visible": false
         }
        ],
        "xaxis": {
         "title": {
          "font": {
           "size": 16
          },
          "text": "Sentiment"
         }
        },
        "yaxis": {
         "title": {
          "font": {
           "size": 16
          },
          "text": "Count"
         }
        }
       }
      }
     },
     "metadata": {},
     "output_type": "display_data"
    }
   ],
   "source": [
    "# analysis.py\n",
    "\n",
    "import plotly.graph_objs as go\n",
    "import plotly.express as px\n",
    "from plotly.subplots import make_subplots\n",
    "from custom_theme import custom_theme\n",
    "\n",
    "# Your existing code for creating the figure\n",
    "fig = go.Figure(data=[go.Bar(\n",
    "    x=labels,\n",
    "    y=values,\n",
    "    marker=dict(\n",
    "        color=values,\n",
    "        colorscale=px.colors.sequential.Viridis,\n",
    "        colorbar=dict(title=\"Count\"),\n",
    "    )\n",
    ")])\n",
    "\n",
    "# Customize the layout\n",
    "fig.update_layout(\n",
    "    title='Sentiment Analysis Results',\n",
    "    xaxis_title='Sentiment',\n",
    "    yaxis_title='Count',\n",
    "    bargap=0.2,  # gap between bars\n",
    "    template=custom_theme,  # Apply our custom theme\n",
    "    margin=dict(t=100, r=100)  # Increase top and right margins\n",
    ")\n",
    "\n",
    "# Additional customization for better readability\n",
    "fig.update_layout(\n",
    "    title_font_size=20,\n",
    "    xaxis_title_font_size=16,\n",
    "    yaxis_title_font_size=16,\n",
    "    legend_title_font_size=16\n",
    ")\n",
    "\n",
    "# Add '@seszele' marker at top right corner of the figure\n",
    "fig.add_annotation(\n",
    "    text='@seszele',\n",
    "    xref='paper',\n",
    "    yref='paper',\n",
    "    x=1.1,\n",
    "    y=1.1,\n",
    "    xanchor='right',\n",
    "    yanchor='top',\n",
    "    showarrow=False,\n",
    "    font=dict(\n",
    "        family='monospace',\n",
    "        size=14,\n",
    "        color='#ffffff'\n",
    "    ),\n",
    "    bgcolor='rgba(0,0,0,0.5)',\n",
    "    bordercolor='#ffffff',\n",
    "    borderwidth=1,\n",
    "    borderpad=4,\n",
    "    opacity=0.8,\n",
    "    clicktoshow='onoff',\n",
    "    name='seszele_annotation'\n",
    ")\n",
    "\n",
    "# Add invisible annotation with link\n",
    "fig.add_annotation(\n",
    "    text='<a href=\"https://github.com/seszele\">Visit @seszele on GitHub</a>',\n",
    "    xref='paper',\n",
    "    yref='paper',\n",
    "    x=1.1,\n",
    "    y=1.05,\n",
    "    xanchor='right',\n",
    "    yanchor='top',\n",
    "    showarrow=False,\n",
    "    font=dict(\n",
    "        family='monospace',\n",
    "        size=14,\n",
    "        color='#ffffff'\n",
    "    ),\n",
    "    bgcolor='rgba(0,0,0,0.5)',\n",
    "    bordercolor='#ffffff',\n",
    "    borderwidth=1,\n",
    "    borderpad=4,\n",
    "    opacity=0.8,\n",
    "    visible=False,\n",
    "    name='github_link'\n",
    ")\n",
    "\n",
    "# Add clicktoshow functionality\n",
    "fig.update_layout(\n",
    "    updatemenus=[\n",
    "        dict(\n",
    "            type=\"buttons\",\n",
    "            showactive=False,\n",
    "            buttons=[\n",
    "                dict(\n",
    "                    label=\"@seszele\",\n",
    "                    method=\"update\",\n",
    "                    args=[{\"annotations[1].visible\": True}],\n",
    "                    args2=[{\"annotations[1].visible\": False}],\n",
    "                ),\n",
    "            ],\n",
    "            visible=False,\n",
    "        )\n",
    "    ]\n",
    ")\n",
    "\n",
    "# Show the plot\n",
    "fig.show()"
   ]
  },
  {
   "cell_type": "markdown",
   "metadata": {},
   "source": [
    "## Estimate cost\n",
    "- analyse how many tokens would be needed to tokenize the text using gpt4 "
   ]
  },
  {
   "cell_type": "code",
   "execution_count": 60,
   "metadata": {},
   "outputs": [
    {
     "name": "stdout",
     "output_type": "stream",
     "text": [
      "Total reviews: 107018\n",
      "Total tokens: 3139660\n",
      "Average tokens per review: 29.34\n",
      "Estimated cost: $94.19\n"
     ]
    }
   ],
   "source": [
    "import os\n",
    "from google.cloud import bigquery\n",
    "import tiktoken\n",
    "\n",
    "def estimate_tokens_and_cost(model=\"gpt-3.5-turbo\"):\n",
    "    # Get table details from environment variables\n",
    "    project_id = os.getenv('PROJECT_ID')\n",
    "    dataset_id = os.getenv('DATASET_NAME')\n",
    "    table_id = os.getenv('FEEDBACK_TABLE_NAME')\n",
    "\n",
    "    # Construct the query\n",
    "    query = f\"\"\"\n",
    "    SELECT Review\n",
    "    FROM `{project_id}.{dataset_id}.{table_id}`\n",
    "    \"\"\"\n",
    "\n",
    "    # Create a BigQuery client\n",
    "    client = bigquery.Client()\n",
    "\n",
    "    # Run the query\n",
    "    query_job = client.query(query)\n",
    "\n",
    "    # Fetch the results\n",
    "    results = query_job.result()\n",
    "\n",
    "    # Initialize tokenizer\n",
    "    enc = tiktoken.encoding_for_model(model)\n",
    "    \n",
    "    total_tokens = 0\n",
    "    review_count = 0\n",
    "    \n",
    "    # Process the results\n",
    "    for row in results:\n",
    "        review = row.Review  # Changed from row.Text to row.Review\n",
    "        tokens = len(enc.encode(review))\n",
    "        total_tokens += tokens\n",
    "        review_count += 1\n",
    "    \n",
    "    avg_tokens_per_review = total_tokens / review_count if review_count > 0 else 0\n",
    "    \n",
    "    # Pricing (as of September 2023)\n",
    "    if model == \"gpt-3.5-turbo\":\n",
    "        price_per_1k_tokens = 0.0015  # $0.0015 per 1K tokens for input\n",
    "    elif model == \"gpt-4\":\n",
    "        price_per_1k_tokens = 0.03  # $0.03 per 1K tokens for input\n",
    "    else:\n",
    "        raise ValueError(\"Unsupported model\")\n",
    "    \n",
    "    estimated_cost = (total_tokens / 1000) * price_per_1k_tokens\n",
    "    \n",
    "    return {\n",
    "        \"total_reviews\": review_count,\n",
    "        \"total_tokens\": total_tokens,\n",
    "        \"avg_tokens_per_review\": avg_tokens_per_review,\n",
    "        \"estimated_cost\": estimated_cost\n",
    "    }\n",
    "\n",
    "# Usage\n",
    "model = \"gpt-4\"\n",
    "\n",
    "results = estimate_tokens_and_cost(model)\n",
    "\n",
    "print(f\"Total reviews: {results['total_reviews']}\")\n",
    "print(f\"Total tokens: {results['total_tokens']}\")\n",
    "print(f\"Average tokens per review: {results['avg_tokens_per_review']:.2f}\")\n",
    "print(f\"Estimated cost: ${results['estimated_cost']:.2f}\")"
   ]
  }
 ],
 "metadata": {
  "kernelspec": {
   "display_name": "venv",
   "language": "python",
   "name": "python3"
  },
  "language_info": {
   "codemirror_mode": {
    "name": "ipython",
    "version": 3
   },
   "file_extension": ".py",
   "mimetype": "text/x-python",
   "name": "python",
   "nbconvert_exporter": "python",
   "pygments_lexer": "ipython3",
   "version": "3.11.5"
  }
 },
 "nbformat": 4,
 "nbformat_minor": 2
}
